{
 "cells": [
  {
   "cell_type": "code",
   "execution_count": null,
   "metadata": {},
   "outputs": [],
   "source": []
  },
  {
   "cell_type": "code",
   "execution_count": null,
   "metadata": {},
   "outputs": [],
   "source": [
    "\n",
    "# TODO: Fix graphml update (Roman)\n",
    "\n",
    "# for node, data in graph.nodes(data=True):\n",
    "\n",
    "#     new_data = node_table.loc[node_table['feat_ID'] == int(node)].iloc[0].to_dict()\n",
    "#     nx.set_node_attributes(graph, {node: new_data})\n",
    "\n",
    "\n",
    "# print(graph.nodes(data=True))\n",
    "\n",
    "# nx.write_graphml(graph, '../20230929_piper_screen_final/data/test.graphml')\n",
    "\n",
    "\n",
    "\n",
    "# TODO: Create `Unique network` column (Roman) and merge to MZmine feature table and GNPS node table\n",
    "\n",
    "# def agg_samples(samples_in_network, uniqueness=0.8):\n",
    "    \n",
    "#     counts = Counter([len(list(s)) for s in list(samples_in_network)])\n",
    "    \n",
    "#     return counts[1] / sum(counts.values()) > uniqueness\n",
    "\n",
    "# unique_networks = ftable.groupby(by='network_ID').agg({'Detected': agg_samples}).rename(columns={'Detected': 'Unique network'})\n",
    "\n",
    "\n",
    "# #merge to MZmine feature_table and change column order\n",
    "# ftable = ftable.merge(unique_networks, on='network_ID')\n",
    "# ftable.insert(8, 'Unique network', ftable.pop('Unique network'))\n",
    "\n",
    "\n",
    "# #merge to GNPS node_table\n",
    "# fbmn = fbmn.merge(unique_networks, how='left', left_on ='componentindex', right_index=True) #create network_size column in the node_table"
   ]
  }
 ],
 "metadata": {
  "language_info": {
   "name": "python"
  }
 },
 "nbformat": 4,
 "nbformat_minor": 2
}
